{
 "cells": [
  {
   "cell_type": "code",
   "execution_count": 1,
   "id": "59b82c8a",
   "metadata": {},
   "outputs": [],
   "source": [
    "\n",
    "import numpy as np\n",
    "import random as rm\n",
    "import time\n",
    "import pandas as pd\n",
    "from numpy import linalg as LA\n",
    "\n",
    "import random as rm\n",
    "import time"
   ]
  },
  {
   "cell_type": "code",
   "execution_count": 2,
   "id": "ea0cd362",
   "metadata": {},
   "outputs": [
    {
     "data": {
      "text/html": [
       "<div>\n",
       "<style scoped>\n",
       "    .dataframe tbody tr th:only-of-type {\n",
       "        vertical-align: middle;\n",
       "    }\n",
       "\n",
       "    .dataframe tbody tr th {\n",
       "        vertical-align: top;\n",
       "    }\n",
       "\n",
       "    .dataframe thead th {\n",
       "        text-align: right;\n",
       "    }\n",
       "</style>\n",
       "<table border=\"1\" class=\"dataframe\">\n",
       "  <thead>\n",
       "    <tr style=\"text-align: right;\">\n",
       "      <th></th>\n",
       "      <th>Station_Name</th>\n",
       "      <th>Year</th>\n",
       "      <th>Month</th>\n",
       "      <th>Day</th>\n",
       "      <th>Rainfall in mm</th>\n",
       "    </tr>\n",
       "  </thead>\n",
       "  <tbody>\n",
       "    <tr>\n",
       "      <th>0</th>\n",
       "      <td>KADUHA_AWS</td>\n",
       "      <td>2018</td>\n",
       "      <td>1</td>\n",
       "      <td>1</td>\n",
       "      <td>0.2</td>\n",
       "    </tr>\n",
       "    <tr>\n",
       "      <th>1</th>\n",
       "      <td>KADUHA_AWS</td>\n",
       "      <td>2018</td>\n",
       "      <td>1</td>\n",
       "      <td>2</td>\n",
       "      <td>5.8</td>\n",
       "    </tr>\n",
       "    <tr>\n",
       "      <th>2</th>\n",
       "      <td>KADUHA_AWS</td>\n",
       "      <td>2018</td>\n",
       "      <td>1</td>\n",
       "      <td>3</td>\n",
       "      <td>2.6</td>\n",
       "    </tr>\n",
       "    <tr>\n",
       "      <th>3</th>\n",
       "      <td>KADUHA_AWS</td>\n",
       "      <td>2018</td>\n",
       "      <td>1</td>\n",
       "      <td>4</td>\n",
       "      <td>1.2</td>\n",
       "    </tr>\n",
       "    <tr>\n",
       "      <th>4</th>\n",
       "      <td>KADUHA_AWS</td>\n",
       "      <td>2018</td>\n",
       "      <td>1</td>\n",
       "      <td>5</td>\n",
       "      <td>1.4</td>\n",
       "    </tr>\n",
       "    <tr>\n",
       "      <th>...</th>\n",
       "      <td>...</td>\n",
       "      <td>...</td>\n",
       "      <td>...</td>\n",
       "      <td>...</td>\n",
       "      <td>...</td>\n",
       "    </tr>\n",
       "    <tr>\n",
       "      <th>952</th>\n",
       "      <td>MUKUNGURI_AWS</td>\n",
       "      <td>2018</td>\n",
       "      <td>12</td>\n",
       "      <td>27</td>\n",
       "      <td>0.0</td>\n",
       "    </tr>\n",
       "    <tr>\n",
       "      <th>953</th>\n",
       "      <td>MUKUNGURI_AWS</td>\n",
       "      <td>2018</td>\n",
       "      <td>12</td>\n",
       "      <td>28</td>\n",
       "      <td>0.0</td>\n",
       "    </tr>\n",
       "    <tr>\n",
       "      <th>954</th>\n",
       "      <td>MUKUNGURI_AWS</td>\n",
       "      <td>2018</td>\n",
       "      <td>12</td>\n",
       "      <td>29</td>\n",
       "      <td>0.0</td>\n",
       "    </tr>\n",
       "    <tr>\n",
       "      <th>955</th>\n",
       "      <td>MUKUNGURI_AWS</td>\n",
       "      <td>2018</td>\n",
       "      <td>12</td>\n",
       "      <td>30</td>\n",
       "      <td>0.0</td>\n",
       "    </tr>\n",
       "    <tr>\n",
       "      <th>956</th>\n",
       "      <td>MUKUNGURI_AWS</td>\n",
       "      <td>2018</td>\n",
       "      <td>12</td>\n",
       "      <td>31</td>\n",
       "      <td>0.0</td>\n",
       "    </tr>\n",
       "  </tbody>\n",
       "</table>\n",
       "<p>957 rows × 5 columns</p>\n",
       "</div>"
      ],
      "text/plain": [
       "      Station_Name  Year  Month  Day  Rainfall in mm\n",
       "0       KADUHA_AWS  2018      1    1             0.2\n",
       "1       KADUHA_AWS  2018      1    2             5.8\n",
       "2       KADUHA_AWS  2018      1    3             2.6\n",
       "3       KADUHA_AWS  2018      1    4             1.2\n",
       "4       KADUHA_AWS  2018      1    5             1.4\n",
       "..             ...   ...    ...  ...             ...\n",
       "952  MUKUNGURI_AWS  2018     12   27             0.0\n",
       "953  MUKUNGURI_AWS  2018     12   28             0.0\n",
       "954  MUKUNGURI_AWS  2018     12   29             0.0\n",
       "955  MUKUNGURI_AWS  2018     12   30             0.0\n",
       "956  MUKUNGURI_AWS  2018     12   31             0.0\n",
       "\n",
       "[957 rows x 5 columns]"
      ]
     },
     "execution_count": 2,
     "metadata": {},
     "output_type": "execute_result"
    }
   ],
   "source": [
    "#loading dataset\n",
    "meteo_data=pd.read_csv(\"Meteorological_data.csv\")\n",
    "meteo_rain_data=meteo_data.filter(['Station_Name','Year','Month','Day','Rainfall in mm'])\n",
    "meteo_rain_data"
   ]
  },
  {
   "cell_type": "code",
   "execution_count": 3,
   "id": "3afe9a9b",
   "metadata": {},
   "outputs": [
    {
     "data": {
      "text/html": [
       "<div>\n",
       "<style scoped>\n",
       "    .dataframe tbody tr th:only-of-type {\n",
       "        vertical-align: middle;\n",
       "    }\n",
       "\n",
       "    .dataframe tbody tr th {\n",
       "        vertical-align: top;\n",
       "    }\n",
       "\n",
       "    .dataframe thead th {\n",
       "        text-align: right;\n",
       "    }\n",
       "</style>\n",
       "<table border=\"1\" class=\"dataframe\">\n",
       "  <thead>\n",
       "    <tr style=\"text-align: right;\">\n",
       "      <th></th>\n",
       "      <th>Station_Name</th>\n",
       "      <th>Year</th>\n",
       "      <th>Month</th>\n",
       "      <th>Day</th>\n",
       "      <th>Rainfall in mm</th>\n",
       "      <th>rain patterns</th>\n",
       "    </tr>\n",
       "  </thead>\n",
       "  <tbody>\n",
       "    <tr>\n",
       "      <th>0</th>\n",
       "      <td>KADUHA_AWS</td>\n",
       "      <td>2018</td>\n",
       "      <td>1</td>\n",
       "      <td>1</td>\n",
       "      <td>0.2</td>\n",
       "      <td>1.0</td>\n",
       "    </tr>\n",
       "    <tr>\n",
       "      <th>1</th>\n",
       "      <td>KADUHA_AWS</td>\n",
       "      <td>2018</td>\n",
       "      <td>1</td>\n",
       "      <td>2</td>\n",
       "      <td>5.8</td>\n",
       "      <td>1.0</td>\n",
       "    </tr>\n",
       "    <tr>\n",
       "      <th>2</th>\n",
       "      <td>KADUHA_AWS</td>\n",
       "      <td>2018</td>\n",
       "      <td>1</td>\n",
       "      <td>3</td>\n",
       "      <td>2.6</td>\n",
       "      <td>1.0</td>\n",
       "    </tr>\n",
       "    <tr>\n",
       "      <th>3</th>\n",
       "      <td>KADUHA_AWS</td>\n",
       "      <td>2018</td>\n",
       "      <td>1</td>\n",
       "      <td>4</td>\n",
       "      <td>1.2</td>\n",
       "      <td>1.0</td>\n",
       "    </tr>\n",
       "    <tr>\n",
       "      <th>4</th>\n",
       "      <td>KADUHA_AWS</td>\n",
       "      <td>2018</td>\n",
       "      <td>1</td>\n",
       "      <td>5</td>\n",
       "      <td>1.4</td>\n",
       "      <td>1.0</td>\n",
       "    </tr>\n",
       "    <tr>\n",
       "      <th>...</th>\n",
       "      <td>...</td>\n",
       "      <td>...</td>\n",
       "      <td>...</td>\n",
       "      <td>...</td>\n",
       "      <td>...</td>\n",
       "      <td>...</td>\n",
       "    </tr>\n",
       "    <tr>\n",
       "      <th>952</th>\n",
       "      <td>MUKUNGURI_AWS</td>\n",
       "      <td>2018</td>\n",
       "      <td>12</td>\n",
       "      <td>27</td>\n",
       "      <td>0.0</td>\n",
       "      <td>0.0</td>\n",
       "    </tr>\n",
       "    <tr>\n",
       "      <th>953</th>\n",
       "      <td>MUKUNGURI_AWS</td>\n",
       "      <td>2018</td>\n",
       "      <td>12</td>\n",
       "      <td>28</td>\n",
       "      <td>0.0</td>\n",
       "      <td>0.0</td>\n",
       "    </tr>\n",
       "    <tr>\n",
       "      <th>954</th>\n",
       "      <td>MUKUNGURI_AWS</td>\n",
       "      <td>2018</td>\n",
       "      <td>12</td>\n",
       "      <td>29</td>\n",
       "      <td>0.0</td>\n",
       "      <td>0.0</td>\n",
       "    </tr>\n",
       "    <tr>\n",
       "      <th>955</th>\n",
       "      <td>MUKUNGURI_AWS</td>\n",
       "      <td>2018</td>\n",
       "      <td>12</td>\n",
       "      <td>30</td>\n",
       "      <td>0.0</td>\n",
       "      <td>0.0</td>\n",
       "    </tr>\n",
       "    <tr>\n",
       "      <th>956</th>\n",
       "      <td>MUKUNGURI_AWS</td>\n",
       "      <td>2018</td>\n",
       "      <td>12</td>\n",
       "      <td>31</td>\n",
       "      <td>0.0</td>\n",
       "      <td>0.0</td>\n",
       "    </tr>\n",
       "  </tbody>\n",
       "</table>\n",
       "<p>957 rows × 6 columns</p>\n",
       "</div>"
      ],
      "text/plain": [
       "      Station_Name  Year  Month  Day  Rainfall in mm  rain patterns\n",
       "0       KADUHA_AWS  2018      1    1             0.2            1.0\n",
       "1       KADUHA_AWS  2018      1    2             5.8            1.0\n",
       "2       KADUHA_AWS  2018      1    3             2.6            1.0\n",
       "3       KADUHA_AWS  2018      1    4             1.2            1.0\n",
       "4       KADUHA_AWS  2018      1    5             1.4            1.0\n",
       "..             ...   ...    ...  ...             ...            ...\n",
       "952  MUKUNGURI_AWS  2018     12   27             0.0            0.0\n",
       "953  MUKUNGURI_AWS  2018     12   28             0.0            0.0\n",
       "954  MUKUNGURI_AWS  2018     12   29             0.0            0.0\n",
       "955  MUKUNGURI_AWS  2018     12   30             0.0            0.0\n",
       "956  MUKUNGURI_AWS  2018     12   31             0.0            0.0\n",
       "\n",
       "[957 rows x 6 columns]"
      ]
     },
     "execution_count": 3,
     "metadata": {},
     "output_type": "execute_result"
    }
   ],
   "source": [
    "#filtering the important columns to be used \n",
    "new_value=[]\n",
    "for value in meteo_rain_data['Rainfall in mm']:\n",
    "    if value!=0:\n",
    "        value=1\n",
    "    new_value.append(value)\n",
    "\n",
    "meteo_rain_data['rain patterns']=new_value\n",
    "\n",
    "meteo_rain_data\n",
    "          \n",
    " "
   ]
  },
  {
   "cell_type": "code",
   "execution_count": 4,
   "id": "d75931c7",
   "metadata": {},
   "outputs": [
    {
     "data": {
      "text/html": [
       "<div>\n",
       "<style scoped>\n",
       "    .dataframe tbody tr th:only-of-type {\n",
       "        vertical-align: middle;\n",
       "    }\n",
       "\n",
       "    .dataframe tbody tr th {\n",
       "        vertical-align: top;\n",
       "    }\n",
       "\n",
       "    .dataframe thead th {\n",
       "        text-align: right;\n",
       "    }\n",
       "</style>\n",
       "<table border=\"1\" class=\"dataframe\">\n",
       "  <thead>\n",
       "    <tr style=\"text-align: right;\">\n",
       "      <th></th>\n",
       "      <th>Station_Name</th>\n",
       "      <th>Year</th>\n",
       "      <th>Month</th>\n",
       "      <th>Day</th>\n",
       "      <th>Rainfall in mm</th>\n",
       "      <th>rain patterns</th>\n",
       "    </tr>\n",
       "  </thead>\n",
       "  <tbody>\n",
       "    <tr>\n",
       "      <th>0</th>\n",
       "      <td>KADUHA_AWS</td>\n",
       "      <td>2018</td>\n",
       "      <td>1</td>\n",
       "      <td>1</td>\n",
       "      <td>0.2</td>\n",
       "      <td>1.0</td>\n",
       "    </tr>\n",
       "    <tr>\n",
       "      <th>1</th>\n",
       "      <td>KADUHA_AWS</td>\n",
       "      <td>2018</td>\n",
       "      <td>1</td>\n",
       "      <td>2</td>\n",
       "      <td>5.8</td>\n",
       "      <td>1.0</td>\n",
       "    </tr>\n",
       "    <tr>\n",
       "      <th>2</th>\n",
       "      <td>KADUHA_AWS</td>\n",
       "      <td>2018</td>\n",
       "      <td>1</td>\n",
       "      <td>3</td>\n",
       "      <td>2.6</td>\n",
       "      <td>1.0</td>\n",
       "    </tr>\n",
       "    <tr>\n",
       "      <th>3</th>\n",
       "      <td>KADUHA_AWS</td>\n",
       "      <td>2018</td>\n",
       "      <td>1</td>\n",
       "      <td>4</td>\n",
       "      <td>1.2</td>\n",
       "      <td>1.0</td>\n",
       "    </tr>\n",
       "    <tr>\n",
       "      <th>4</th>\n",
       "      <td>KADUHA_AWS</td>\n",
       "      <td>2018</td>\n",
       "      <td>1</td>\n",
       "      <td>5</td>\n",
       "      <td>1.4</td>\n",
       "      <td>1.0</td>\n",
       "    </tr>\n",
       "    <tr>\n",
       "      <th>...</th>\n",
       "      <td>...</td>\n",
       "      <td>...</td>\n",
       "      <td>...</td>\n",
       "      <td>...</td>\n",
       "      <td>...</td>\n",
       "      <td>...</td>\n",
       "    </tr>\n",
       "    <tr>\n",
       "      <th>314</th>\n",
       "      <td>KADUHA_AWS</td>\n",
       "      <td>2018</td>\n",
       "      <td>12</td>\n",
       "      <td>27</td>\n",
       "      <td>3.8</td>\n",
       "      <td>1.0</td>\n",
       "    </tr>\n",
       "    <tr>\n",
       "      <th>315</th>\n",
       "      <td>KADUHA_AWS</td>\n",
       "      <td>2018</td>\n",
       "      <td>12</td>\n",
       "      <td>28</td>\n",
       "      <td>0.2</td>\n",
       "      <td>1.0</td>\n",
       "    </tr>\n",
       "    <tr>\n",
       "      <th>316</th>\n",
       "      <td>KADUHA_AWS</td>\n",
       "      <td>2018</td>\n",
       "      <td>12</td>\n",
       "      <td>29</td>\n",
       "      <td>4.2</td>\n",
       "      <td>1.0</td>\n",
       "    </tr>\n",
       "    <tr>\n",
       "      <th>317</th>\n",
       "      <td>KADUHA_AWS</td>\n",
       "      <td>2018</td>\n",
       "      <td>12</td>\n",
       "      <td>30</td>\n",
       "      <td>0.2</td>\n",
       "      <td>1.0</td>\n",
       "    </tr>\n",
       "    <tr>\n",
       "      <th>318</th>\n",
       "      <td>KADUHA_AWS</td>\n",
       "      <td>2018</td>\n",
       "      <td>12</td>\n",
       "      <td>31</td>\n",
       "      <td>11.2</td>\n",
       "      <td>1.0</td>\n",
       "    </tr>\n",
       "  </tbody>\n",
       "</table>\n",
       "<p>319 rows × 6 columns</p>\n",
       "</div>"
      ],
      "text/plain": [
       "    Station_Name  Year  Month  Day  Rainfall in mm  rain patterns\n",
       "0     KADUHA_AWS  2018      1    1             0.2            1.0\n",
       "1     KADUHA_AWS  2018      1    2             5.8            1.0\n",
       "2     KADUHA_AWS  2018      1    3             2.6            1.0\n",
       "3     KADUHA_AWS  2018      1    4             1.2            1.0\n",
       "4     KADUHA_AWS  2018      1    5             1.4            1.0\n",
       "..           ...   ...    ...  ...             ...            ...\n",
       "314   KADUHA_AWS  2018     12   27             3.8            1.0\n",
       "315   KADUHA_AWS  2018     12   28             0.2            1.0\n",
       "316   KADUHA_AWS  2018     12   29             4.2            1.0\n",
       "317   KADUHA_AWS  2018     12   30             0.2            1.0\n",
       "318   KADUHA_AWS  2018     12   31            11.2            1.0\n",
       "\n",
       "[319 rows x 6 columns]"
      ]
     },
     "execution_count": 4,
     "metadata": {},
     "output_type": "execute_result"
    }
   ],
   "source": [
    "#getting the data of kaduha location from the dataset\n",
    "kaduha_data=meteo_rain_data.loc[meteo_rain_data['Station_Name']=='KADUHA_AWS']\n",
    "kaduha_data"
   ]
  },
  {
   "cell_type": "code",
   "execution_count": 5,
   "id": "f0beac2f",
   "metadata": {},
   "outputs": [
    {
     "data": {
      "text/html": [
       "<div>\n",
       "<style scoped>\n",
       "    .dataframe tbody tr th:only-of-type {\n",
       "        vertical-align: middle;\n",
       "    }\n",
       "\n",
       "    .dataframe tbody tr th {\n",
       "        vertical-align: top;\n",
       "    }\n",
       "\n",
       "    .dataframe thead th {\n",
       "        text-align: right;\n",
       "    }\n",
       "</style>\n",
       "<table border=\"1\" class=\"dataframe\">\n",
       "  <thead>\n",
       "    <tr style=\"text-align: right;\">\n",
       "      <th></th>\n",
       "      <th>Station_Name</th>\n",
       "      <th>Year</th>\n",
       "      <th>Month</th>\n",
       "      <th>Day</th>\n",
       "      <th>Rainfall in mm</th>\n",
       "      <th>rain patterns</th>\n",
       "    </tr>\n",
       "  </thead>\n",
       "  <tbody>\n",
       "    <tr>\n",
       "      <th>319</th>\n",
       "      <td>RUTSIRO_AWS</td>\n",
       "      <td>2018</td>\n",
       "      <td>1</td>\n",
       "      <td>1</td>\n",
       "      <td>0.8</td>\n",
       "      <td>1.0</td>\n",
       "    </tr>\n",
       "    <tr>\n",
       "      <th>320</th>\n",
       "      <td>RUTSIRO_AWS</td>\n",
       "      <td>2018</td>\n",
       "      <td>1</td>\n",
       "      <td>2</td>\n",
       "      <td>1.0</td>\n",
       "      <td>1.0</td>\n",
       "    </tr>\n",
       "    <tr>\n",
       "      <th>321</th>\n",
       "      <td>RUTSIRO_AWS</td>\n",
       "      <td>2018</td>\n",
       "      <td>1</td>\n",
       "      <td>3</td>\n",
       "      <td>0.6</td>\n",
       "      <td>1.0</td>\n",
       "    </tr>\n",
       "    <tr>\n",
       "      <th>322</th>\n",
       "      <td>RUTSIRO_AWS</td>\n",
       "      <td>2018</td>\n",
       "      <td>1</td>\n",
       "      <td>4</td>\n",
       "      <td>1.4</td>\n",
       "      <td>1.0</td>\n",
       "    </tr>\n",
       "    <tr>\n",
       "      <th>323</th>\n",
       "      <td>RUTSIRO_AWS</td>\n",
       "      <td>2018</td>\n",
       "      <td>1</td>\n",
       "      <td>5</td>\n",
       "      <td>2.2</td>\n",
       "      <td>1.0</td>\n",
       "    </tr>\n",
       "    <tr>\n",
       "      <th>...</th>\n",
       "      <td>...</td>\n",
       "      <td>...</td>\n",
       "      <td>...</td>\n",
       "      <td>...</td>\n",
       "      <td>...</td>\n",
       "      <td>...</td>\n",
       "    </tr>\n",
       "    <tr>\n",
       "      <th>633</th>\n",
       "      <td>RUTSIRO_AWS</td>\n",
       "      <td>2018</td>\n",
       "      <td>12</td>\n",
       "      <td>27</td>\n",
       "      <td>0.4</td>\n",
       "      <td>1.0</td>\n",
       "    </tr>\n",
       "    <tr>\n",
       "      <th>634</th>\n",
       "      <td>RUTSIRO_AWS</td>\n",
       "      <td>2018</td>\n",
       "      <td>12</td>\n",
       "      <td>28</td>\n",
       "      <td>0.0</td>\n",
       "      <td>0.0</td>\n",
       "    </tr>\n",
       "    <tr>\n",
       "      <th>635</th>\n",
       "      <td>RUTSIRO_AWS</td>\n",
       "      <td>2018</td>\n",
       "      <td>12</td>\n",
       "      <td>29</td>\n",
       "      <td>3.6</td>\n",
       "      <td>1.0</td>\n",
       "    </tr>\n",
       "    <tr>\n",
       "      <th>636</th>\n",
       "      <td>RUTSIRO_AWS</td>\n",
       "      <td>2018</td>\n",
       "      <td>12</td>\n",
       "      <td>30</td>\n",
       "      <td>3.6</td>\n",
       "      <td>1.0</td>\n",
       "    </tr>\n",
       "    <tr>\n",
       "      <th>637</th>\n",
       "      <td>RUTSIRO_AWS</td>\n",
       "      <td>2018</td>\n",
       "      <td>12</td>\n",
       "      <td>31</td>\n",
       "      <td>5.6</td>\n",
       "      <td>1.0</td>\n",
       "    </tr>\n",
       "  </tbody>\n",
       "</table>\n",
       "<p>319 rows × 6 columns</p>\n",
       "</div>"
      ],
      "text/plain": [
       "    Station_Name  Year  Month  Day  Rainfall in mm  rain patterns\n",
       "319  RUTSIRO_AWS  2018      1    1             0.8            1.0\n",
       "320  RUTSIRO_AWS  2018      1    2             1.0            1.0\n",
       "321  RUTSIRO_AWS  2018      1    3             0.6            1.0\n",
       "322  RUTSIRO_AWS  2018      1    4             1.4            1.0\n",
       "323  RUTSIRO_AWS  2018      1    5             2.2            1.0\n",
       "..           ...   ...    ...  ...             ...            ...\n",
       "633  RUTSIRO_AWS  2018     12   27             0.4            1.0\n",
       "634  RUTSIRO_AWS  2018     12   28             0.0            0.0\n",
       "635  RUTSIRO_AWS  2018     12   29             3.6            1.0\n",
       "636  RUTSIRO_AWS  2018     12   30             3.6            1.0\n",
       "637  RUTSIRO_AWS  2018     12   31             5.6            1.0\n",
       "\n",
       "[319 rows x 6 columns]"
      ]
     },
     "execution_count": 5,
     "metadata": {},
     "output_type": "execute_result"
    }
   ],
   "source": [
    "#Getting the data of Rutsiro location from the dataset\n",
    "rutsiro_data=meteo_rain_data.loc[meteo_rain_data['Station_Name']=='RUTSIRO_AWS']\n",
    "rutsiro_data"
   ]
  },
  {
   "cell_type": "code",
   "execution_count": 6,
   "id": "06b12887",
   "metadata": {},
   "outputs": [
    {
     "data": {
      "text/html": [
       "<div>\n",
       "<style scoped>\n",
       "    .dataframe tbody tr th:only-of-type {\n",
       "        vertical-align: middle;\n",
       "    }\n",
       "\n",
       "    .dataframe tbody tr th {\n",
       "        vertical-align: top;\n",
       "    }\n",
       "\n",
       "    .dataframe thead th {\n",
       "        text-align: right;\n",
       "    }\n",
       "</style>\n",
       "<table border=\"1\" class=\"dataframe\">\n",
       "  <thead>\n",
       "    <tr style=\"text-align: right;\">\n",
       "      <th></th>\n",
       "      <th>Station_Name</th>\n",
       "      <th>Year</th>\n",
       "      <th>Month</th>\n",
       "      <th>Day</th>\n",
       "      <th>Rainfall in mm</th>\n",
       "      <th>rain patterns</th>\n",
       "    </tr>\n",
       "  </thead>\n",
       "  <tbody>\n",
       "    <tr>\n",
       "      <th>638</th>\n",
       "      <td>MUKUNGURI_AWS</td>\n",
       "      <td>2018</td>\n",
       "      <td>1</td>\n",
       "      <td>1</td>\n",
       "      <td>2.0</td>\n",
       "      <td>1.0</td>\n",
       "    </tr>\n",
       "    <tr>\n",
       "      <th>639</th>\n",
       "      <td>MUKUNGURI_AWS</td>\n",
       "      <td>2018</td>\n",
       "      <td>1</td>\n",
       "      <td>2</td>\n",
       "      <td>0.0</td>\n",
       "      <td>0.0</td>\n",
       "    </tr>\n",
       "    <tr>\n",
       "      <th>640</th>\n",
       "      <td>MUKUNGURI_AWS</td>\n",
       "      <td>2018</td>\n",
       "      <td>1</td>\n",
       "      <td>3</td>\n",
       "      <td>0.0</td>\n",
       "      <td>0.0</td>\n",
       "    </tr>\n",
       "    <tr>\n",
       "      <th>641</th>\n",
       "      <td>MUKUNGURI_AWS</td>\n",
       "      <td>2018</td>\n",
       "      <td>1</td>\n",
       "      <td>4</td>\n",
       "      <td>16.2</td>\n",
       "      <td>1.0</td>\n",
       "    </tr>\n",
       "    <tr>\n",
       "      <th>642</th>\n",
       "      <td>MUKUNGURI_AWS</td>\n",
       "      <td>2018</td>\n",
       "      <td>1</td>\n",
       "      <td>5</td>\n",
       "      <td>0.0</td>\n",
       "      <td>0.0</td>\n",
       "    </tr>\n",
       "    <tr>\n",
       "      <th>...</th>\n",
       "      <td>...</td>\n",
       "      <td>...</td>\n",
       "      <td>...</td>\n",
       "      <td>...</td>\n",
       "      <td>...</td>\n",
       "      <td>...</td>\n",
       "    </tr>\n",
       "    <tr>\n",
       "      <th>952</th>\n",
       "      <td>MUKUNGURI_AWS</td>\n",
       "      <td>2018</td>\n",
       "      <td>12</td>\n",
       "      <td>27</td>\n",
       "      <td>0.0</td>\n",
       "      <td>0.0</td>\n",
       "    </tr>\n",
       "    <tr>\n",
       "      <th>953</th>\n",
       "      <td>MUKUNGURI_AWS</td>\n",
       "      <td>2018</td>\n",
       "      <td>12</td>\n",
       "      <td>28</td>\n",
       "      <td>0.0</td>\n",
       "      <td>0.0</td>\n",
       "    </tr>\n",
       "    <tr>\n",
       "      <th>954</th>\n",
       "      <td>MUKUNGURI_AWS</td>\n",
       "      <td>2018</td>\n",
       "      <td>12</td>\n",
       "      <td>29</td>\n",
       "      <td>0.0</td>\n",
       "      <td>0.0</td>\n",
       "    </tr>\n",
       "    <tr>\n",
       "      <th>955</th>\n",
       "      <td>MUKUNGURI_AWS</td>\n",
       "      <td>2018</td>\n",
       "      <td>12</td>\n",
       "      <td>30</td>\n",
       "      <td>0.0</td>\n",
       "      <td>0.0</td>\n",
       "    </tr>\n",
       "    <tr>\n",
       "      <th>956</th>\n",
       "      <td>MUKUNGURI_AWS</td>\n",
       "      <td>2018</td>\n",
       "      <td>12</td>\n",
       "      <td>31</td>\n",
       "      <td>0.0</td>\n",
       "      <td>0.0</td>\n",
       "    </tr>\n",
       "  </tbody>\n",
       "</table>\n",
       "<p>319 rows × 6 columns</p>\n",
       "</div>"
      ],
      "text/plain": [
       "      Station_Name  Year  Month  Day  Rainfall in mm  rain patterns\n",
       "638  MUKUNGURI_AWS  2018      1    1             2.0            1.0\n",
       "639  MUKUNGURI_AWS  2018      1    2             0.0            0.0\n",
       "640  MUKUNGURI_AWS  2018      1    3             0.0            0.0\n",
       "641  MUKUNGURI_AWS  2018      1    4            16.2            1.0\n",
       "642  MUKUNGURI_AWS  2018      1    5             0.0            0.0\n",
       "..             ...   ...    ...  ...             ...            ...\n",
       "952  MUKUNGURI_AWS  2018     12   27             0.0            0.0\n",
       "953  MUKUNGURI_AWS  2018     12   28             0.0            0.0\n",
       "954  MUKUNGURI_AWS  2018     12   29             0.0            0.0\n",
       "955  MUKUNGURI_AWS  2018     12   30             0.0            0.0\n",
       "956  MUKUNGURI_AWS  2018     12   31             0.0            0.0\n",
       "\n",
       "[319 rows x 6 columns]"
      ]
     },
     "execution_count": 6,
     "metadata": {},
     "output_type": "execute_result"
    }
   ],
   "source": [
    "#getting the data for mukunguri location from the dataset\n",
    "mukunguri_data=meteo_rain_data.loc[meteo_rain_data['Station_Name']=='MUKUNGURI_AWS']\n",
    "mukunguri_data"
   ]
  },
  {
   "cell_type": "code",
   "execution_count": null,
   "id": "e3a6e885",
   "metadata": {},
   "outputs": [],
   "source": []
  },
  {
   "cell_type": "code",
   "execution_count": 7,
   "id": "7ccfd9f2",
   "metadata": {
    "scrolled": true
   },
   "outputs": [
    {
     "name": "stdout",
     "output_type": "stream",
     "text": [
      " The prob of rain followed by rain kaduha summer: 0.1724137931034483\n"
     ]
    }
   ],
   "source": [
    "# calculating the probability of getting rain followed by rain for kaduha location  in summer\n",
    "kaduha_summer_data=kaduha_data.loc[(kaduha_data['Month']==6) | (kaduha_data['Month']==7) | (kaduha_data['Month']==8)]\n",
    "kaduha_summer_total_days=kaduha_summer_data['rain patterns'].count()\n",
    "weather_column=kaduha_summer_data['rain patterns']\n",
    "rain_days=0\n",
    "previous_day=1\n",
    "for current_day in weather_column:\n",
    "    if current_day==1 and previous_day==1:\n",
    "        rain_days+=1\n",
    "        previous_day=current_day\n",
    "        \n",
    "        \n",
    "kaduha_rain_followed_by_rain_prob_summer=rain_days/kaduha_summer_total_days\n",
    "print(f' The prob of rain followed by rain kaduha summer: {kaduha_rain_followed_by_rain_prob_summer}')"
   ]
  },
  {
   "cell_type": "code",
   "execution_count": 8,
   "id": "c3259b3d",
   "metadata": {},
   "outputs": [
    {
     "name": "stdout",
     "output_type": "stream",
     "text": [
      " The prob of rain followed by sun kaduha summer :0.8275862068965517\n"
     ]
    }
   ],
   "source": [
    "# calculating the probability of getting rain followed by sun for kaduha location in summer     \n",
    "rain_followed_by_sun_prob_summer=1-kaduha_rain_followed_by_rain_prob_summer\n",
    "print(f' The prob of rain followed by sun kaduha summer :{rain_followed_by_sun_prob_summer}')"
   ]
  },
  {
   "cell_type": "code",
   "execution_count": 9,
   "id": "f8589e2b",
   "metadata": {},
   "outputs": [
    {
     "name": "stdout",
     "output_type": "stream",
     "text": [
      " The prob of sun followed by rain kaduha summer: 0.011494252873563218\n"
     ]
    }
   ],
   "source": [
    "#calculating the probability of getting sun followed by rain for kaduha location  in summer\n",
    "weather_column=kaduha_summer_data['rain patterns']\n",
    "sun_rain_days=0\n",
    "previous_day=0\n",
    "for current_day in weather_column:\n",
    "    if current_day==1 and previous_day==0:\n",
    "        sun_rain_days+=1\n",
    "        previous_day=current_day\n",
    "        \n",
    "        \n",
    "kaduha_sun_followed_by_rain_prob_summer=sun_rain_days/kaduha_summer_total_days\n",
    "kaduha_sun_followed_by_rain_prob_summer\n",
    "print(f' The prob of sun followed by rain kaduha summer: {kaduha_sun_followed_by_rain_prob_summer}')"
   ]
  },
  {
   "cell_type": "code",
   "execution_count": 10,
   "id": "3eadd34a",
   "metadata": {},
   "outputs": [
    {
     "name": "stdout",
     "output_type": "stream",
     "text": [
      " The prob of sun followed by sun kaduha summer: 0.9885057471264368\n"
     ]
    }
   ],
   "source": [
    "# calculating the probability of getting sun followed by sun for kaduha location  in summer   \n",
    "kaduha_sun_followed_by_sun_prob_summer=1-kaduha_sun_followed_by_rain_prob_summer\n",
    "print(f' The prob of sun followed by sun kaduha summer: {kaduha_sun_followed_by_sun_prob_summer}')"
   ]
  },
  {
   "cell_type": "code",
   "execution_count": null,
   "id": "a900cb02",
   "metadata": {},
   "outputs": [],
   "source": []
  },
  {
   "cell_type": "code",
   "execution_count": 11,
   "id": "e7644835",
   "metadata": {},
   "outputs": [
    {
     "name": "stdout",
     "output_type": "stream",
     "text": [
      " Kaduha summer matrix :\n",
      "\n",
      "[[0.17241379 0.82758621]\n",
      " [0.01149425 0.98850575]]\n"
     ]
    }
   ],
   "source": [
    "#kaduha summer state probabilities matrix\n",
    "kaduha_summer_matrix = np.matrix([[kaduha_rain_followed_by_rain_prob_summer, rain_followed_by_sun_prob_summer],\n",
    "                                  [kaduha_sun_followed_by_rain_prob_summer,kaduha_sun_followed_by_sun_prob_summer ]])\n",
    "\n",
    "print(f' Kaduha summer matrix :\\n\\n{kaduha_summer_matrix}')"
   ]
  },
  {
   "cell_type": "code",
   "execution_count": 12,
   "id": "55d61cdb",
   "metadata": {},
   "outputs": [
    {
     "name": "stdout",
     "output_type": "stream",
     "text": [
      "\n",
      "Kaduha summer steady state matrix power 1 is \n",
      "\n",
      " [[0.17241379 0.82758621]\n",
      " [0.01149425 0.98850575]]\n",
      "\n",
      "\n",
      "Kaduha summer steady state matrix power 2 is \n",
      "\n",
      " [[0.039239  0.960761 ]\n",
      " [0.0133439 0.9866561]]\n",
      "\n",
      "\n",
      "Kaduha summer steady state matrix power 11 is \n",
      "\n",
      " [[0.01369863 0.98630137]\n",
      " [0.01369863 0.98630137]]\n",
      "\n",
      "\n",
      "Kaduha summer steady state matrix power 12 is \n",
      "\n",
      " [[0.01369863 0.98630137]\n",
      " [0.01369863 0.98630137]]\n",
      "\n"
     ]
    }
   ],
   "source": [
    "#kaduha summer steady states probabilities \n",
    "kaduha_summer_steady_list=[1,2, 11, 12]\n",
    "\n",
    "for kaduha_summer_value in kaduha_summer_steady_list:\n",
    "    print(f\"\\nKaduha summer steady state matrix power {kaduha_summer_value} is \\n\\n {LA.matrix_power(kaduha_summer_matrix,kaduha_summer_value)}\\n\")\n",
    "    "
   ]
  },
  {
   "cell_type": "code",
   "execution_count": 13,
   "id": "2905127f",
   "metadata": {},
   "outputs": [
    {
     "name": "stdout",
     "output_type": "stream",
     "text": [
      " The prob of sun followed by sun in winter kaduha winter: 0.3815789473684211\n"
     ]
    }
   ],
   "source": [
    "# calculating the probability of getting sun followed by sun for kaduha location  in winter\n",
    "\n",
    "kaduha_winter_data=kaduha_data.loc[(kaduha_data['Month']==3) | (kaduha_data['Month']==4) | (kaduha_data['Month']==5)]\n",
    "kaduha_winter_total_days=kaduha_winter_data['Rainfall in mm'].count()\n",
    "\n",
    "\n",
    "#days of getting sunny day given sunny day on previous day in winter kaduha\n",
    "\n",
    "winter_weather_column=kaduha_winter_data['rain patterns']\n",
    "sunny_days=0\n",
    "previous_day=0\n",
    "for current_day in winter_weather_column:\n",
    "    if current_day==0 and previous_day==0:\n",
    "        previous_day=current_day\n",
    "        sunny_days+=1\n",
    "        \n",
    "        \n",
    "kaduha_sun_followed_by_sun_prob_winter=sunny_days/kaduha_winter_total_days\n",
    "print(f' The prob of sun followed by sun in winter kaduha winter: {kaduha_sun_followed_by_sun_prob_winter}')"
   ]
  },
  {
   "cell_type": "code",
   "execution_count": 14,
   "id": "42a8884b",
   "metadata": {},
   "outputs": [],
   "source": []
  },
  {
   "cell_type": "code",
   "execution_count": 15,
   "id": "0247e96c",
   "metadata": {},
   "outputs": [
    {
     "name": "stdout",
     "output_type": "stream",
     "text": [
      " The prob of rain followed by sun kaduha winter: 0.013157894736842105\n"
     ]
    }
   ],
   "source": [
    "#calculating the probability of getting rain followed by sun for kaduha location  in winter\n",
    "winter_weather_column=kaduha_winter_data['rain patterns']\n",
    "rain_sun_days=0\n",
    "previous_day=1\n",
    "for current_day in winter_weather_column:\n",
    "    if current_day==0 and previous_day==1:\n",
    "        rain_sun_days+=1\n",
    "        previous_day=current_day\n",
    "        \n",
    "        \n",
    "kaduha_rain_followed_by_sun_prob_winter=rain_sun_days/kaduha_winter_total_days\n",
    "print(f' The prob of rain followed by sun kaduha winter: {kaduha_rain_followed_by_sun_prob_winter}')"
   ]
  },
  {
   "cell_type": "code",
   "execution_count": 16,
   "id": "3afc469c",
   "metadata": {},
   "outputs": [
    {
     "name": "stdout",
     "output_type": "stream",
     "text": [
      " The prob of rain followed by rain kaduha winter: 0.9868421052631579\n"
     ]
    }
   ],
   "source": [
    "# calculating the probability of getting rain followed by rain for kaduha location in winter      \n",
    "kaduha_rain_followed_by_rain_prob_winter=1-kaduha_rain_followed_by_sun_prob_winter\n",
    "print(f' The prob of rain followed by rain kaduha winter: {kaduha_rain_followed_by_rain_prob_winter}')"
   ]
  },
  {
   "cell_type": "code",
   "execution_count": 17,
   "id": "762eacb6",
   "metadata": {},
   "outputs": [
    {
     "name": "stdout",
     "output_type": "stream",
     "text": [
      " The prob of sun followed by rain kaduha winter: 0.618421052631579\n"
     ]
    }
   ],
   "source": [
    "# calculating the probability of getting sun followed by rain for kaduha location  in winter    \n",
    "        \n",
    "kaduha_sun_followed_by_rain_prob_winter=1-kaduha_sun_followed_by_sun_prob_winter\n",
    "print(f' The prob of sun followed by rain kaduha winter: {kaduha_sun_followed_by_rain_prob_winter}')"
   ]
  },
  {
   "cell_type": "code",
   "execution_count": 18,
   "id": "870d660f",
   "metadata": {},
   "outputs": [
    {
     "name": "stdout",
     "output_type": "stream",
     "text": [
      " Kaduha winter state probabilities  matrix :\n",
      "\n",
      "[[0.17241379 0.82758621]\n",
      " [0.01149425 0.98850575]]\n"
     ]
    }
   ],
   "source": [
    "\n",
    "#kaduha winter state probabilities matrix for kaduha location in winter\n",
    "kaduha_winter_state_probability_matrix = np.matrix([[kaduha_rain_followed_by_rain_prob_winter, kaduha_rain_followed_by_sun_prob_winter],\n",
    "                                  [kaduha_sun_followed_by_rain_prob_winter,kaduha_sun_followed_by_sun_prob_winter ]])\n",
    "\n",
    "print(f' Kaduha winter state probabilities  matrix :\\n\\n{kaduha_summer_matrix}')\n"
   ]
  },
  {
   "cell_type": "code",
   "execution_count": 19,
   "id": "93f6cb7d",
   "metadata": {},
   "outputs": [
    {
     "name": "stdout",
     "output_type": "stream",
     "text": [
      "Kaduha winter  steady state matrix power 1 is: \n",
      "\n",
      " [[0.98684211 0.01315789]\n",
      " [0.61842105 0.38157895]]\n",
      "\n",
      "Kaduha winter  steady state matrix power 2 is: \n",
      "\n",
      " [[0.98199446 0.01800554]\n",
      " [0.84626039 0.15373961]]\n",
      "\n",
      "Kaduha winter  steady state matrix power 21 is: \n",
      "\n",
      " [[0.97916667 0.02083333]\n",
      " [0.97916667 0.02083333]]\n",
      "\n",
      "Kaduha winter  steady state matrix power 22 is: \n",
      "\n",
      " [[0.97916667 0.02083333]\n",
      " [0.97916667 0.02083333]]\n",
      "\n"
     ]
    }
   ],
   "source": [
    "\n",
    "#kaduha winter steady probabilities  in winter\n",
    "kaduha_winter_steady_list=[1,2,21,22]\n",
    "\n",
    "for kaduha_winter_value in kaduha_winter_steady_list:\n",
    "    print(f\"Kaduha winter  steady state matrix power {kaduha_winter_value} is: \\n\\n {LA.matrix_power(kaduha_winter_state_probability_matrix,kaduha_winter_value)}\\n\")\n"
   ]
  },
  {
   "cell_type": "code",
   "execution_count": null,
   "id": "8623f004",
   "metadata": {},
   "outputs": [],
   "source": []
  },
  {
   "cell_type": "code",
   "execution_count": 20,
   "id": "66b8760f",
   "metadata": {},
   "outputs": [
    {
     "name": "stdout",
     "output_type": "stream",
     "text": [
      " The prob of rain followed by rain rutsiro summer: 0.21839080459770116\n"
     ]
    }
   ],
   "source": [
    "# calculating the probability of getting rain followed by rain for rutsiro location in summer\n",
    "\n",
    "rutsiro_summer_data=rutsiro_data.loc[(rutsiro_data['Month']==6) | (rutsiro_data['Month']==7) | (rutsiro_data['Month']==8)]\n",
    "rutsiro_summer_total_days=rutsiro_summer_data['rain patterns'].count()\n",
    "\n",
    "rutsiro_summer_weather_column=rutsiro_summer_data['rain patterns']\n",
    "rain_rain_days=0\n",
    "previous_day=1\n",
    "for current_day in rutsiro_summer_weather_column:\n",
    "    if current_day==1 and previous_day==1:\n",
    "        rain_rain_days+=1\n",
    "        previous_day=current_day\n",
    "        \n",
    "        \n",
    "rutsiro_rain_followed_by_rain_prob_summer=rain_rain_days/rutsiro_summer_total_days\n",
    "print(f' The prob of rain followed by rain rutsiro summer: {rutsiro_rain_followed_by_rain_prob_summer}')"
   ]
  },
  {
   "cell_type": "code",
   "execution_count": 21,
   "id": "4e935871",
   "metadata": {},
   "outputs": [
    {
     "name": "stdout",
     "output_type": "stream",
     "text": [
      " The prob of rain followed by sun rutsiro summer: 0.7816091954022988\n"
     ]
    }
   ],
   "source": [
    "                \n",
    "rutsiro_rain_followed_by_sun_prob_summer=1-rutsiro_rain_followed_by_rain_prob_summer\n",
    "print(f' The prob of rain followed by sun rutsiro summer: {rutsiro_rain_followed_by_sun_prob_summer}')"
   ]
  },
  {
   "cell_type": "code",
   "execution_count": 22,
   "id": "232b07d5",
   "metadata": {},
   "outputs": [
    {
     "name": "stdout",
     "output_type": "stream",
     "text": [
      " The prob of sun followed by rain rutsiro summer: 0.011494252873563218\n"
     ]
    }
   ],
   "source": [
    "# calculating the probability of getting sun followed by rain for rutsiro location in summer\n",
    "\n",
    "rutsiro_summer_data=rutsiro_data.loc[(rutsiro_data['Month']==6) | (rutsiro_data['Month']==7) | (rutsiro_data['Month']==8)]\n",
    "rutsiro_summer_total_days=rutsiro_summer_data['rain patterns'].count()\n",
    "\n",
    "rutsiro_summer_weather_column=rutsiro_summer_data['rain patterns']\n",
    "sun_rain_days=0\n",
    "previous_day=0\n",
    "for current_day in rutsiro_summer_weather_column:\n",
    "    if current_day==1 and previous_day==0:\n",
    "        sun_rain_days+=1\n",
    "        previous_day=current_day\n",
    "        \n",
    "        \n",
    "rutsiro_sun_followed_by_rain_prob_summer=sun_rain_days/rutsiro_summer_total_days\n",
    "print(f' The prob of sun followed by rain rutsiro summer: {rutsiro_sun_followed_by_rain_prob_summer}')"
   ]
  },
  {
   "cell_type": "code",
   "execution_count": 23,
   "id": "024c94ef",
   "metadata": {},
   "outputs": [
    {
     "name": "stdout",
     "output_type": "stream",
     "text": [
      " The prob of sun followed by sun rutsiro summer: 0.9885057471264368\n"
     ]
    }
   ],
   "source": [
    "# calculating the probability of getting sun followed by sun for for rutsiro location in summer\n",
    "rutsiro_sun_followed_by_sun_prob_summer=1-rutsiro_sun_followed_by_rain_prob_summer\n",
    "print(f' The prob of sun followed by sun rutsiro summer: {rutsiro_sun_followed_by_sun_prob_summer}')"
   ]
  },
  {
   "cell_type": "code",
   "execution_count": 24,
   "id": "3a0895ef",
   "metadata": {},
   "outputs": [
    {
     "name": "stdout",
     "output_type": "stream",
     "text": [
      " Rutsiro summer matrix :\n",
      "\n",
      "[[0.2183908  0.7816092 ]\n",
      " [0.01149425 0.98850575]]\n"
     ]
    }
   ],
   "source": [
    "\n",
    "#rutsiro state probabilities matrix for rutsiro location in summer\n",
    "rutsiro_summer_state_probability_matrix = np.matrix([[rutsiro_rain_followed_by_rain_prob_summer, rutsiro_rain_followed_by_sun_prob_summer],\n",
    "                                  [rutsiro_sun_followed_by_rain_prob_summer,rutsiro_sun_followed_by_sun_prob_summer]])\n",
    "\n",
    "print(f' Rutsiro summer matrix :\\n\\n{rutsiro_summer_state_probability_matrix}')"
   ]
  },
  {
   "cell_type": "code",
   "execution_count": 25,
   "id": "19018ae0",
   "metadata": {},
   "outputs": [
    {
     "name": "stdout",
     "output_type": "stream",
     "text": [
      "Rutsiro summer steady states prob matrix power 1 is: \n",
      "\n",
      " [[0.2183908  0.7816092 ]\n",
      " [0.01149425 0.98850575]]\n",
      "\n",
      "Rutsiro summer steady states prob matrix power 2 is: \n",
      "\n",
      " [[0.05667856 0.94332144]\n",
      " [0.01387237 0.98612763]]\n",
      "\n",
      "Rutsiro summer steady states prob matrix power 13 is: \n",
      "\n",
      " [[0.01449275 0.98550725]\n",
      " [0.01449275 0.98550725]]\n",
      "\n",
      "Rutsiro summer steady states prob matrix power 15 is: \n",
      "\n",
      " [[0.01449275 0.98550725]\n",
      " [0.01449275 0.98550725]]\n",
      "\n",
      "Rutsiro summer steady states prob matrix power 16 is: \n",
      "\n",
      " [[0.01449275 0.98550725]\n",
      " [0.01449275 0.98550725]]\n",
      "\n"
     ]
    }
   ],
   "source": [
    "#rutsiro summer steady states probabilities \n",
    "rutsiro_summer_steady_list=[1,2,13,15,16]\n",
    "\n",
    "for rutsiro_summer_value in rutsiro_summer_steady_list:\n",
    "    print(f\"Rutsiro summer steady states prob matrix power {rutsiro_summer_value} is: \\n\\n {LA.matrix_power(rutsiro_summer_state_probability_matrix,rutsiro_summer_value)}\\n\")\n"
   ]
  },
  {
   "cell_type": "code",
   "execution_count": null,
   "id": "da1e360f",
   "metadata": {},
   "outputs": [],
   "source": []
  },
  {
   "cell_type": "code",
   "execution_count": null,
   "id": "b6dad8a2",
   "metadata": {},
   "outputs": [],
   "source": [
    "\n"
   ]
  },
  {
   "cell_type": "code",
   "execution_count": 26,
   "id": "6f8cd756",
   "metadata": {},
   "outputs": [
    {
     "name": "stdout",
     "output_type": "stream",
     "text": [
      " The prob of sun followed by sun rutsiro winter: 0.4342105263157895\n"
     ]
    }
   ],
   "source": [
    "# calculating the probability of getting sun followed by sun for rutsiro location in winter\n",
    "\n",
    "rutsiro_winter_data=rutsiro_data.loc[(rutsiro_data['Month']==3) | (rutsiro_data['Month']==4) | (rutsiro_data['Month']==5)]\n",
    "\n",
    "rutsiro_winter_total_days=rutsiro_winter_data['Rainfall in mm'].count()\n",
    "\n",
    "\n",
    "rutsiro_winter_weather_column=rutsiro_winter_data['rain patterns']\n",
    "sun_sun_days=0\n",
    "previous_day=0\n",
    "for current_day in rutsiro_winter_weather_column:\n",
    "    if current_day==0 and previous_day==0:\n",
    "        sun_sun_days+=1\n",
    "        previous_day=current_day\n",
    "        \n",
    "        \n",
    "rutsiro_sun_followed_by_sun_prob_winter=sun_sun_days/rutsiro_winter_total_days\n",
    "print(f' The prob of sun followed by sun rutsiro winter: {rutsiro_sun_followed_by_sun_prob_winter}')"
   ]
  },
  {
   "cell_type": "code",
   "execution_count": 27,
   "id": "921578c8",
   "metadata": {},
   "outputs": [
    {
     "name": "stdout",
     "output_type": "stream",
     "text": [
      " The prob of sun followed by rain rutsiro winter: 0.5657894736842105\n"
     ]
    }
   ],
   "source": [
    "# calculating the probability of getting sun followed by rain for rutsiro location in winter\n",
    "\n",
    "rutsiro_winter_data=rutsiro_data.loc[(rutsiro_data['Month']==3) | (rutsiro_data['Month']==4) | (rutsiro_data['Month']==5)]\n",
    "        \n",
    "rutsiro_sun_followed_by_rain_prob_winter=1-rutsiro_sun_followed_by_sun_prob_winter\n",
    "print(f' The prob of sun followed by rain rutsiro winter: {rutsiro_sun_followed_by_rain_prob_winter}')"
   ]
  },
  {
   "cell_type": "code",
   "execution_count": 28,
   "id": "92af9ea9",
   "metadata": {},
   "outputs": [
    {
     "name": "stdout",
     "output_type": "stream",
     "text": [
      " The prob of rain followed by sun rutsiro winter: 0.013157894736842105\n"
     ]
    }
   ],
   "source": [
    "# calculating the probability of getting rain followed by sun for rutsiro location in winter\n",
    "\n",
    "rutsiro_winter_data=rutsiro_data.loc[(rutsiro_data['Month']==3) | (rutsiro_data['Month']==4) | (rutsiro_data['Month']==5)]\n",
    "\n",
    "rutsiro_winter_total_days=rutsiro_winter_data['Rainfall in mm'].count()\n",
    "\n",
    "\n",
    "rutsiro_winter_weather_column=rutsiro_winter_data['rain patterns']\n",
    "rain_sun_days=0\n",
    "previous_day=1\n",
    "for current_day in rutsiro_winter_weather_column:\n",
    "    if current_day==0 and previous_day==1:\n",
    "        rain_sun_days+=1\n",
    "        previous_day=current_day\n",
    "        \n",
    "        \n",
    "rutsiro_rain_followed_by_sun_prob_winter=rain_sun_days/rutsiro_winter_total_days\n",
    "print(f' The prob of rain followed by sun rutsiro winter: {rutsiro_rain_followed_by_sun_prob_winter}')"
   ]
  },
  {
   "cell_type": "code",
   "execution_count": 29,
   "id": "08c31db6",
   "metadata": {},
   "outputs": [
    {
     "name": "stdout",
     "output_type": "stream",
     "text": [
      " The prob of rain followed by rain rutsiro winter: 0.9868421052631579\n"
     ]
    }
   ],
   "source": [
    "# calculating the probability of getting rain followed by rain for rutsiro location  in winter\n",
    "\n",
    "rutsiro_rain_followed_by_rain_prob_winter=1-rutsiro_rain_followed_by_sun_prob_winter\n",
    "print(f' The prob of rain followed by rain rutsiro winter: {rutsiro_rain_followed_by_rain_prob_winter}')"
   ]
  },
  {
   "cell_type": "code",
   "execution_count": 30,
   "id": "84085d37",
   "metadata": {},
   "outputs": [
    {
     "name": "stdout",
     "output_type": "stream",
     "text": [
      " Rutsiro winter matrix :\n",
      "\n",
      "[[0.98684211 0.01315789]\n",
      " [0.56578947 0.43421053]]\n"
     ]
    }
   ],
   "source": [
    "\n",
    "#rutsiro winter steady states probabilities matrix \n",
    "\n",
    "rutsiro_winter_state_probability_matrix = np.matrix([[rutsiro_rain_followed_by_rain_prob_winter, rutsiro_rain_followed_by_sun_prob_winter],\n",
    "                                  [rutsiro_sun_followed_by_rain_prob_winter,rutsiro_sun_followed_by_sun_prob_winter]])\n",
    "\n",
    "print(f' Rutsiro winter matrix :\\n\\n{rutsiro_winter_state_probability_matrix}')"
   ]
  },
  {
   "cell_type": "code",
   "execution_count": 31,
   "id": "eba6dffd",
   "metadata": {},
   "outputs": [
    {
     "name": "stdout",
     "output_type": "stream",
     "text": [
      "Rutsiro winter steady states prob matrix power 1 is: \n",
      "\n",
      " [[0.98684211 0.01315789]\n",
      " [0.56578947 0.43421053]]\n",
      "\n",
      "Rutsiro winter steady states prob matrix power 2 is: \n",
      "\n",
      " [[0.98130194 0.01869806]\n",
      " [0.80401662 0.19598338]]\n",
      "\n",
      "Rutsiro winter steady states prob matrix power 22 is: \n",
      "\n",
      " [[0.97727273 0.02272727]\n",
      " [0.97727272 0.02272728]]\n",
      "\n",
      "Rutsiro winter steady states prob matrix power 23 is: \n",
      "\n",
      " [[0.97727273 0.02272727]\n",
      " [0.97727273 0.02272727]]\n",
      "\n",
      "Rutsiro winter steady states prob matrix power 24 is: \n",
      "\n",
      " [[0.97727273 0.02272727]\n",
      " [0.97727273 0.02272727]]\n",
      "\n"
     ]
    }
   ],
   "source": [
    "#rutsiro winter steady states probabilities  \n",
    "rutsiro_winter_steady_list=[1,2,22,23,24]\n",
    "\n",
    "for rutsiro_winter_value in rutsiro_winter_steady_list:\n",
    "    print(f\"Rutsiro winter steady states prob matrix power {rutsiro_winter_value} is: \\n\\n {LA.matrix_power(rutsiro_winter_state_probability_matrix,rutsiro_winter_value)}\\n\")\n"
   ]
  },
  {
   "cell_type": "code",
   "execution_count": null,
   "id": "0e7afe38",
   "metadata": {},
   "outputs": [],
   "source": []
  },
  {
   "cell_type": "code",
   "execution_count": 32,
   "id": "f8e097d6",
   "metadata": {},
   "outputs": [
    {
     "name": "stdout",
     "output_type": "stream",
     "text": [
      " The prob of rain followed by rain mukunguri summer: 0.011494252873563218\n"
     ]
    }
   ],
   "source": [
    "# calculating the probability of getting rain followed by rain for mukunguri location  in summer\n",
    "\n",
    "mukunguri_summer_data=mukunguri_data.loc[(mukunguri_data['Month']==6) | (mukunguri_data['Month']==7) | (mukunguri_data['Month']==8)]\n",
    "mukunguri_summer_data\n",
    "\n",
    "mukunguri_summer_total_days=mukunguri_summer_data['rain patterns'].count()\n",
    "\n",
    "\n",
    "mukunguri_summer_weather_column=mukunguri_summer_data['rain patterns']\n",
    "rain_rain_days=0\n",
    "previous_day=1\n",
    "for current_day in mukunguri_summer_weather_column:\n",
    "    if current_day==1 and previous_day==1:\n",
    "        rain_rain_days+=1\n",
    "        previous_day=current_day\n",
    "        \n",
    "        \n",
    "mukunguri_rain_followed_by_rain_prob_summer=rain_rain_days/mukunguri_summer_total_days\n",
    "print(f' The prob of rain followed by rain mukunguri summer: {mukunguri_rain_followed_by_rain_prob_summer}')"
   ]
  },
  {
   "cell_type": "code",
   "execution_count": null,
   "id": "0b705491",
   "metadata": {},
   "outputs": [],
   "source": []
  },
  {
   "cell_type": "code",
   "execution_count": 33,
   "id": "b39d2ec1",
   "metadata": {},
   "outputs": [
    {
     "name": "stdout",
     "output_type": "stream",
     "text": [
      " The prob of sun followed by rain mukunguri summer: 0.011494252873563218\n"
     ]
    }
   ],
   "source": [
    "# calculating the probability of getting sun followed by rain for mukunguri location  in summer\n",
    "\n",
    "mukunguri_summer_data=mukunguri_data.loc[(mukunguri_data['Month']==6) | (mukunguri_data['Month']==7) | (mukunguri_data['Month']==8)]\n",
    "mukunguri_summer_data\n",
    "\n",
    "mukunguri_summer_total_days=mukunguri_summer_data['rain patterns'].count()\n",
    "\n",
    "\n",
    "mukunguri_summer_weather_column=mukunguri_summer_data['rain patterns']\n",
    "sun_rain_days=0\n",
    "previous_day=0\n",
    "for current_day in mukunguri_summer_weather_column:\n",
    "    if current_day==1 and previous_day==0:\n",
    "        sun_rain_days+=1\n",
    "        previous_day=current_day\n",
    "        \n",
    "        \n",
    "mukunguri_sun_followed_by_rain_prob_summer=sun_rain_days/mukunguri_summer_total_days\n",
    "print(f' The prob of sun followed by rain mukunguri summer: {mukunguri_sun_followed_by_rain_prob_summer}')"
   ]
  },
  {
   "cell_type": "code",
   "execution_count": 34,
   "id": "75a08e98",
   "metadata": {},
   "outputs": [
    {
     "name": "stdout",
     "output_type": "stream",
     "text": [
      " The prob of rain followed by sun mukunguri summer: 0.9885057471264368\n"
     ]
    }
   ],
   "source": [
    "# calculating the probability of getting rain followed by sun for mukunguri location  in summer\n",
    "\n",
    "mukunguri_summer_data=mukunguri_data.loc[(mukunguri_data['Month']==6) | (mukunguri_data['Month']==7) | (mukunguri_data['Month']==8)]\n",
    "mukunguri_summer_data\n",
    "        \n",
    "        \n",
    "mukunguri_rain_followed_by_sun_prob_summer=1-mukunguri_rain_followed_by_rain_prob_summer\n",
    "print(f' The prob of rain followed by sun mukunguri summer: {mukunguri_rain_followed_by_sun_prob_summer}')"
   ]
  },
  {
   "cell_type": "code",
   "execution_count": 35,
   "id": "717a13ec",
   "metadata": {},
   "outputs": [
    {
     "name": "stdout",
     "output_type": "stream",
     "text": [
      " The prob of sun followed by sun mukunguri summer: 0.9885057471264368\n"
     ]
    }
   ],
   "source": [
    "# calculating the probability of getting sun followed by sun for mukunguri location  in summer\n",
    "\n",
    "mukunguri_sun_followed_by_sun_prob_summer=1-mukunguri_sun_followed_by_rain_prob_summer\n",
    "print(f' The prob of sun followed by sun mukunguri summer: {mukunguri_sun_followed_by_sun_prob_summer}')"
   ]
  },
  {
   "cell_type": "code",
   "execution_count": 36,
   "id": "8a268782",
   "metadata": {},
   "outputs": [
    {
     "name": "stdout",
     "output_type": "stream",
     "text": [
      " Mukunguri summer matrix :\n",
      "\n",
      "[[0.01149425 0.98850575]\n",
      " [0.01149425 0.98850575]]\n"
     ]
    }
   ],
   "source": [
    "#Mukunguri summer steady states probabilities matrix \n",
    "\n",
    "mukunguri_summer_state_probability_matrix = np.matrix([[mukunguri_rain_followed_by_rain_prob_summer, mukunguri_rain_followed_by_sun_prob_summer],\n",
    "                                  [mukunguri_sun_followed_by_rain_prob_summer,mukunguri_sun_followed_by_sun_prob_summer]])\n",
    "\n",
    "print(f' Mukunguri summer matrix :\\n\\n{mukunguri_summer_state_probability_matrix}')"
   ]
  },
  {
   "cell_type": "code",
   "execution_count": 37,
   "id": "5b6e1f45",
   "metadata": {},
   "outputs": [
    {
     "name": "stdout",
     "output_type": "stream",
     "text": [
      "Mukunguri Summer steady states prob matrix power 1 is: \n",
      "\n",
      " [[0.01149425 0.98850575]\n",
      " [0.01149425 0.98850575]]\n",
      "\n",
      "Mukunguri Summer steady states prob matrix power 2 is: \n",
      "\n",
      " [[0.01149425 0.98850575]\n",
      " [0.01149425 0.98850575]]\n",
      "\n",
      "Mukunguri Summer steady states prob matrix power 3 is: \n",
      "\n",
      " [[0.01149425 0.98850575]\n",
      " [0.01149425 0.98850575]]\n",
      "\n"
     ]
    }
   ],
   "source": [
    "#kaduha summer steady states probabilities \n",
    "mukunguri_summer_steady_list=[1,2,3]\n",
    "\n",
    "for mukunguri_summer_value in mukunguri_summer_steady_list:\n",
    "    print(f\"Mukunguri Summer steady states prob matrix power {mukunguri_summer_value} is: \\n\\n {LA.matrix_power(mukunguri_summer_state_probability_matrix,mukunguri_summer_value)}\\n\")\n",
    "\n"
   ]
  },
  {
   "cell_type": "code",
   "execution_count": 38,
   "id": "0cbecd23",
   "metadata": {},
   "outputs": [
    {
     "data": {
      "text/html": [
       "<div>\n",
       "<style scoped>\n",
       "    .dataframe tbody tr th:only-of-type {\n",
       "        vertical-align: middle;\n",
       "    }\n",
       "\n",
       "    .dataframe tbody tr th {\n",
       "        vertical-align: top;\n",
       "    }\n",
       "\n",
       "    .dataframe thead th {\n",
       "        text-align: right;\n",
       "    }\n",
       "</style>\n",
       "<table border=\"1\" class=\"dataframe\">\n",
       "  <thead>\n",
       "    <tr style=\"text-align: right;\">\n",
       "      <th></th>\n",
       "      <th>Station_Name</th>\n",
       "      <th>Year</th>\n",
       "      <th>Month</th>\n",
       "      <th>Day</th>\n",
       "      <th>Rainfall in mm</th>\n",
       "      <th>rain patterns</th>\n",
       "    </tr>\n",
       "  </thead>\n",
       "  <tbody>\n",
       "    <tr>\n",
       "      <th>676</th>\n",
       "      <td>MUKUNGURI_AWS</td>\n",
       "      <td>2018</td>\n",
       "      <td>3</td>\n",
       "      <td>2</td>\n",
       "      <td>7.0</td>\n",
       "      <td>1.0</td>\n",
       "    </tr>\n",
       "    <tr>\n",
       "      <th>677</th>\n",
       "      <td>MUKUNGURI_AWS</td>\n",
       "      <td>2018</td>\n",
       "      <td>3</td>\n",
       "      <td>3</td>\n",
       "      <td>1.8</td>\n",
       "      <td>1.0</td>\n",
       "    </tr>\n",
       "    <tr>\n",
       "      <th>678</th>\n",
       "      <td>MUKUNGURI_AWS</td>\n",
       "      <td>2018</td>\n",
       "      <td>3</td>\n",
       "      <td>4</td>\n",
       "      <td>3.4</td>\n",
       "      <td>1.0</td>\n",
       "    </tr>\n",
       "    <tr>\n",
       "      <th>679</th>\n",
       "      <td>MUKUNGURI_AWS</td>\n",
       "      <td>2018</td>\n",
       "      <td>3</td>\n",
       "      <td>5</td>\n",
       "      <td>15.4</td>\n",
       "      <td>1.0</td>\n",
       "    </tr>\n",
       "    <tr>\n",
       "      <th>680</th>\n",
       "      <td>MUKUNGURI_AWS</td>\n",
       "      <td>2018</td>\n",
       "      <td>3</td>\n",
       "      <td>12</td>\n",
       "      <td>0.4</td>\n",
       "      <td>1.0</td>\n",
       "    </tr>\n",
       "    <tr>\n",
       "      <th>...</th>\n",
       "      <td>...</td>\n",
       "      <td>...</td>\n",
       "      <td>...</td>\n",
       "      <td>...</td>\n",
       "      <td>...</td>\n",
       "      <td>...</td>\n",
       "    </tr>\n",
       "    <tr>\n",
       "      <th>747</th>\n",
       "      <td>MUKUNGURI_AWS</td>\n",
       "      <td>2018</td>\n",
       "      <td>5</td>\n",
       "      <td>26</td>\n",
       "      <td>0.0</td>\n",
       "      <td>0.0</td>\n",
       "    </tr>\n",
       "    <tr>\n",
       "      <th>748</th>\n",
       "      <td>MUKUNGURI_AWS</td>\n",
       "      <td>2018</td>\n",
       "      <td>5</td>\n",
       "      <td>27</td>\n",
       "      <td>0.0</td>\n",
       "      <td>0.0</td>\n",
       "    </tr>\n",
       "    <tr>\n",
       "      <th>749</th>\n",
       "      <td>MUKUNGURI_AWS</td>\n",
       "      <td>2018</td>\n",
       "      <td>5</td>\n",
       "      <td>28</td>\n",
       "      <td>0.0</td>\n",
       "      <td>0.0</td>\n",
       "    </tr>\n",
       "    <tr>\n",
       "      <th>750</th>\n",
       "      <td>MUKUNGURI_AWS</td>\n",
       "      <td>2018</td>\n",
       "      <td>5</td>\n",
       "      <td>29</td>\n",
       "      <td>0.0</td>\n",
       "      <td>0.0</td>\n",
       "    </tr>\n",
       "    <tr>\n",
       "      <th>751</th>\n",
       "      <td>MUKUNGURI_AWS</td>\n",
       "      <td>2018</td>\n",
       "      <td>5</td>\n",
       "      <td>30</td>\n",
       "      <td>0.0</td>\n",
       "      <td>0.0</td>\n",
       "    </tr>\n",
       "  </tbody>\n",
       "</table>\n",
       "<p>76 rows × 6 columns</p>\n",
       "</div>"
      ],
      "text/plain": [
       "      Station_Name  Year  Month  Day  Rainfall in mm  rain patterns\n",
       "676  MUKUNGURI_AWS  2018      3    2             7.0            1.0\n",
       "677  MUKUNGURI_AWS  2018      3    3             1.8            1.0\n",
       "678  MUKUNGURI_AWS  2018      3    4             3.4            1.0\n",
       "679  MUKUNGURI_AWS  2018      3    5            15.4            1.0\n",
       "680  MUKUNGURI_AWS  2018      3   12             0.4            1.0\n",
       "..             ...   ...    ...  ...             ...            ...\n",
       "747  MUKUNGURI_AWS  2018      5   26             0.0            0.0\n",
       "748  MUKUNGURI_AWS  2018      5   27             0.0            0.0\n",
       "749  MUKUNGURI_AWS  2018      5   28             0.0            0.0\n",
       "750  MUKUNGURI_AWS  2018      5   29             0.0            0.0\n",
       "751  MUKUNGURI_AWS  2018      5   30             0.0            0.0\n",
       "\n",
       "[76 rows x 6 columns]"
      ]
     },
     "execution_count": 38,
     "metadata": {},
     "output_type": "execute_result"
    }
   ],
   "source": [
    "# calculating the probability of getting rain followed by rain for mukunguri location  in summer\n",
    "\n",
    "mukunguri_winter_data=mukunguri_data.loc[(mukunguri_data['Month']==3) | (mukunguri_data['Month']==4) | (mukunguri_data['Month']==5)]\n",
    "mukunguri_winter_data\n",
    "\n"
   ]
  },
  {
   "cell_type": "code",
   "execution_count": null,
   "id": "be4105fb",
   "metadata": {},
   "outputs": [],
   "source": []
  },
  {
   "cell_type": "code",
   "execution_count": 39,
   "id": "317e2bea",
   "metadata": {},
   "outputs": [
    {
     "name": "stdout",
     "output_type": "stream",
     "text": [
      " The prob of sun followed by sun mukunguri winter: 0.5921052631578947\n"
     ]
    }
   ],
   "source": [
    "# calculating the probability of getting sun followed by sun for mukunguri location  in winter\n",
    "\n",
    "mukunguri_winter_data=mukunguri_data.loc[(mukunguri_data['Month']==3) | (mukunguri_data['Month']==4) | (mukunguri_data['Month']==5)]\n",
    "mukunguri_winter_data\n",
    "\n",
    "\n",
    "mukunguri_winter_total_days=mukunguri_winter_data['rain patterns'].count()\n",
    "\n",
    "\n",
    "mukunguri_winter_weather_column=mukunguri_winter_data['rain patterns']\n",
    "\n",
    "sun_sun_days=0\n",
    "previous_day=0\n",
    "for current_day in mukunguri_winter_weather_column:\n",
    "    if current_day==0 and previous_day==0:\n",
    "        sun_sun_days+=1\n",
    "        previous_day=current_day\n",
    "        \n",
    "        \n",
    "mukunguri_sun_followed_by_sun_prob_winter=sun_sun_days/mukunguri_winter_total_days\n",
    "print(f' The prob of sun followed by sun mukunguri winter: {mukunguri_sun_followed_by_sun_prob_winter}')"
   ]
  },
  {
   "cell_type": "code",
   "execution_count": 40,
   "id": "5090b718",
   "metadata": {},
   "outputs": [
    {
     "name": "stdout",
     "output_type": "stream",
     "text": [
      " The prob of sun followed by rain mukunguri winter: 0.4078947368421053\n"
     ]
    }
   ],
   "source": [
    "        \n",
    "# calculating the probability of getting sun followed by rain for mukunguri location  in winter \n",
    "\n",
    "mukunguri_sun_followed_by_rain_prob_winter=1-mukunguri_sun_followed_by_sun_prob_winter\n",
    "print(f' The prob of sun followed by rain mukunguri winter: {mukunguri_sun_followed_by_rain_prob_winter}')"
   ]
  },
  {
   "cell_type": "code",
   "execution_count": 41,
   "id": "087faaf5",
   "metadata": {},
   "outputs": [
    {
     "name": "stdout",
     "output_type": "stream",
     "text": [
      " The prob of rain followed by sun mukunguri winter: 0.013157894736842105\n"
     ]
    }
   ],
   "source": [
    "# calculating the probability of getting rain followed by sun for mukunguri location  in winter\n",
    "\n",
    "mukunguri_winter_data=mukunguri_data.loc[(mukunguri_data['Month']==3) | (mukunguri_data['Month']==4) | (mukunguri_data['Month']==5)]\n",
    "mukunguri_winter_data\n",
    "\n",
    "\n",
    "mukunguri_winter_total_days=mukunguri_winter_data['rain patterns'].count()\n",
    "\n",
    "\n",
    "mukunguri_winter_weather_column=mukunguri_winter_data['rain patterns']\n",
    "\n",
    "rain_sun_days=0\n",
    "previous_day=1\n",
    "for current_day in mukunguri_winter_weather_column:\n",
    "    if current_day==0 and previous_day==1:\n",
    "        rain_sun_days+=1\n",
    "        previous_day=current_day\n",
    "        \n",
    "        \n",
    "mukunguri_rain_followed_by_sun_prob_winter=rain_sun_days/mukunguri_winter_total_days\n",
    "print(f' The prob of rain followed by sun mukunguri winter: {mukunguri_rain_followed_by_sun_prob_winter}')"
   ]
  },
  {
   "cell_type": "code",
   "execution_count": 42,
   "id": "02cf47d6",
   "metadata": {},
   "outputs": [
    {
     "name": "stdout",
     "output_type": "stream",
     "text": [
      " The prob of rain followed by rain mukunguri winter: 0.9868421052631579\n"
     ]
    }
   ],
   "source": [
    "# calculating the probability of getting rain followed by rain for mukunguri location  in winter\n",
    "\n",
    "mukunguri_rain_followed_by_rain_prob_winter=1-mukunguri_rain_followed_by_sun_prob_winter\n",
    "print(f' The prob of rain followed by rain mukunguri winter: {mukunguri_rain_followed_by_rain_prob_winter}')"
   ]
  },
  {
   "cell_type": "code",
   "execution_count": 43,
   "id": "f0331e20",
   "metadata": {},
   "outputs": [
    {
     "name": "stdout",
     "output_type": "stream",
     "text": [
      " Mukunguri winter matrix :\n",
      "\n",
      "[[0.98684211 0.01315789]\n",
      " [0.40789474 0.59210526]]\n"
     ]
    }
   ],
   "source": [
    "#Mukunguri winter  steady state probabilities matrix\n",
    "\n",
    "mukunguri_winter_state_probability_matrix = np.matrix([[mukunguri_rain_followed_by_rain_prob_winter, mukunguri_rain_followed_by_sun_prob_winter],\n",
    "                                  [mukunguri_sun_followed_by_rain_prob_winter,mukunguri_sun_followed_by_sun_prob_winter]])\n",
    "\n",
    "print(f' Mukunguri winter matrix :\\n\\n{mukunguri_winter_state_probability_matrix}')"
   ]
  },
  {
   "cell_type": "code",
   "execution_count": 44,
   "id": "8613d28e",
   "metadata": {},
   "outputs": [
    {
     "name": "stdout",
     "output_type": "stream",
     "text": [
      "Mukunguri winter steady states prob matrix power 1 is: \n",
      "\n",
      " [[0.98684211 0.01315789]\n",
      " [0.40789474 0.59210526]]\n",
      "\n",
      "Mukunguri winter steady states prob matrix power 2 is: \n",
      "\n",
      " [[0.97922438 0.02077562]\n",
      " [0.64404432 0.35595568]]\n",
      "\n",
      "Mukunguri winter steady states prob matrix power 33 is: \n",
      "\n",
      " [[0.96875    0.03125   ]\n",
      " [0.96874999 0.03125001]]\n",
      "\n",
      "Mukunguri winter steady states prob matrix power 34 is: \n",
      "\n",
      " [[0.96875    0.03125   ]\n",
      " [0.96874999 0.03125001]]\n",
      "\n"
     ]
    }
   ],
   "source": [
    "#mukunguri winter steady states probabilities \n",
    "mukunguri_winter_steady_list=[1,2,33,34]\n",
    "\n",
    "for mukunguri_winter_value in mukunguri_winter_steady_list:\n",
    "    print(f\"Mukunguri winter steady states prob matrix power {mukunguri_winter_value} is: \\n\\n {LA.matrix_power(mukunguri_winter_state_probability_matrix,mukunguri_winter_value)}\\n\")\n"
   ]
  },
  {
   "cell_type": "code",
   "execution_count": null,
   "id": "8905da0b",
   "metadata": {},
   "outputs": [],
   "source": []
  },
  {
   "cell_type": "code",
   "execution_count": 45,
   "id": "02ddf18d",
   "metadata": {},
   "outputs": [
    {
     "name": "stdout",
     "output_type": "stream",
     "text": [
      "Initial weather: Summer\n",
      "\n",
      "    Kaduha\n",
      "**************\n",
      "Sunny\n",
      "Sunny\n",
      "Sunny\n",
      "Sunny\n",
      "Sunny\n",
      "\n",
      "   Rutsiro\n",
      "*****************\n",
      "Sunny\n",
      "Sunny\n",
      "Sunny\n",
      "Rainy\n",
      "Sunny\n",
      "\n",
      "      Mukungura\n",
      "*******************************\n",
      "Sunny\n",
      "Rainy\n",
      "Sunny\n",
      "Sunny\n",
      "Sunny\n"
     ]
    }
   ],
   "source": [
    "\n",
    "\n",
    "# Let's define the statespace\n",
    "states = [\"Winter\",\"Summer\"]\n",
    "\n",
    "# Possible sequences of events\n",
    "days_behaviour = [[\"Sunny\",\"Rainy\"],[\"Sunny\",\"Rainy\"]]\n",
    "\n",
    "\n",
    "\n",
    "\n",
    "\n",
    "kaduha_probabilities=[[kaduha_sun_followed_by_rain_prob_summer,kaduha_sun_followed_by_sun_prob_summer],[kaduha_rain_followed_by_rain_prob_winter,kaduha_rain_followed_by_sun_prob_winter]]\n",
    "rutsiro_probabilities=[[rutsiro_sun_followed_by_rain_prob_summer,rutsiro_sun_followed_by_sun_prob_summer],[rutsiro_rain_followed_by_rain_prob_winter,rutsiro_rain_followed_by_sun_prob_winter]]\n",
    "mukunguri_probabilities=[[mukunguri_sun_followed_by_rain_prob_summer,mukunguri_sun_followed_by_sun_prob_summer],[mukunguri_rain_followed_by_rain_prob_winter,mukunguri_rain_followed_by_sun_prob_winter]]\n",
    "\n",
    "\n",
    "# A functions which implements the Markov model to forecast the weather\n",
    "\n",
    "def location_weather_prediction(days_forecast):\n",
    "    # There is no reason to start from one state or another, let's just\n",
    "    # pick one randomly\n",
    "    weatherToday = rm.choice(states)\n",
    "    day = 0\n",
    "    print(f\"Initial weather: {weatherToday}\\n\")\n",
    "    print('    Kaduha')\n",
    "    print('**************')\n",
    "    while day < days_forecast:\n",
    "        if weatherToday == \"Winter\":\n",
    "            #numpy.random.choice(a, size=None, replace=True, p=None)\n",
    "            change = np.random.choice(days_behaviour[0],replace=True,p=kaduha_probabilities[0])\n",
    "            if change == \"Rainy\":\n",
    "                pass\n",
    "            else:\n",
    "                change = \"Sunny\"\n",
    "        elif weatherToday == \"Summer\":\n",
    "            change = np.random.choice(days_behaviour[1],replace=True,p=kaduha_probabilities[1])\n",
    "            if change == \"Sunny\":\n",
    "                pass\n",
    "            else:\n",
    "                change = \"Rainy\"\n",
    "        print(change)\n",
    "        day += 1\n",
    "        time.sleep(0.5)\n",
    "        \n",
    "    #Rutsiro\n",
    "    day = 0\n",
    "    print('\\n   Rutsiro')\n",
    "    print('*****************')\n",
    "    while day < days_forecast:\n",
    "        if weatherToday == \"Winter\":\n",
    "            #numpy.random.choice(a, size=None, replace=True, p=None)\n",
    "            change = np.random.choice(days_behaviour[0],replace=True,p=rutsiro_probabilities[0])\n",
    "            if change == \"Rainy\":\n",
    "                pass\n",
    "            else:\n",
    "                change = \"Sunny\"\n",
    "        elif weatherToday == \"Summer\":\n",
    "            change = np.random.choice(days_behaviour[1],replace=True,p=rutsiro_probabilities[1])\n",
    "            if change == \"Sunny\":\n",
    "                pass\n",
    "            else:\n",
    "                change = \"Rainy\"\n",
    "        print(change)\n",
    "        day += 1\n",
    "        time.sleep(0.5)\n",
    "        \n",
    "    #Mukungura\n",
    "    day = 0\n",
    "    print('\\n      Mukungura')\n",
    "    print('*******************************')\n",
    "    while day < days_forecast:\n",
    "        if weatherToday == \"Winter\":\n",
    "            #numpy.random.choice(a, size=None, replace=True, p=None)\n",
    "            change = np.random.choice(days_behaviour[0],replace=True,p=mukunguri_probabilities[0])\n",
    "            if change == \"Rainy\":\n",
    "                pass\n",
    "            else:\n",
    "                change = \"Sunny\"\n",
    "        elif weatherToday == \"Summer\":\n",
    "            change = np.random.choice(days_behaviour[1],replace=True,p=mukunguri_probabilities[1])\n",
    "            if change == \"Sunny\":\n",
    "                pass\n",
    "            else:\n",
    "                change = \"Rainy\"\n",
    "        print(change)\n",
    "        day += 1\n",
    "        time.sleep(0.5)\n",
    "        \n",
    "    \n",
    "\n",
    "# We forecast the weather for n days\n",
    "location_weather_prediction(5)"
   ]
  },
  {
   "cell_type": "code",
   "execution_count": null,
   "id": "eeb901cb",
   "metadata": {},
   "outputs": [],
   "source": [
    "\n",
    "\n",
    "\n"
   ]
  },
  {
   "cell_type": "code",
   "execution_count": null,
   "id": "09494b7c",
   "metadata": {},
   "outputs": [],
   "source": []
  }
 ],
 "metadata": {
  "kernelspec": {
   "display_name": "Python 3",
   "language": "python",
   "name": "python3"
  },
  "language_info": {
   "codemirror_mode": {
    "name": "ipython",
    "version": 3
   },
   "file_extension": ".py",
   "mimetype": "text/x-python",
   "name": "python",
   "nbconvert_exporter": "python",
   "pygments_lexer": "ipython3",
   "version": "3.8.8"
  }
 },
 "nbformat": 4,
 "nbformat_minor": 5
}
